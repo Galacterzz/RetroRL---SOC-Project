{
 "cells": [
  {
   "cell_type": "markdown",
   "id": "ffa46460-feef-48d0-951c-e109ba78c450",
   "metadata": {},
   "source": [
    "# MultiArm Bandit Problem (MAB)\n",
    "The Multi-Armed Bandit (MAB) problem is a classic challenge in reinforcement learning. In this scenario, each slot machine represents a bandit with one lever (arm). Pulling the lever yields a reward according to a specific probability distribution. When dealing with just one slot machine, it is referred to as a one-armed bandit. When multiple slot machines are involved, it is termed a Multi-Armed Bandit (MAB) or k-armed bandit, where k indicates the number of slot machines."
   ]
  },
  {
   "cell_type": "markdown",
   "id": "eef413b9-92bf-4ed2-8c77-7915d1404c39",
   "metadata": {},
   "source": [
    "## Upper-Confidence-Bound (UCB) Strategy\n",
    "The idea of this upper confidence bound (UCB) action selection is that the square-root\n",
    "term is a measure of the uncertainty or variance in the estimate of $a ’ s$ value. The quantity\n",
    "being maxed over is thus a sort of upper bound on the possible true value of action $a$ , with\n",
    "$c$ determining the confidence level. Each time a is selected the uncertainty is presumably\n",
    "reduced: $N$<sub>t</sub>$( a )$ increments, and, as it appears in the denominator, the uncertainty term\n",
    "decreases. On the other hand, each time an action other than $a$ is selected, $t$ increases but\n",
    "$N$<sub>t</sub>$( a )$ does not; because t appears in the numerator, the uncertainty estimate increases.\n",
    "The use of the natural logarithm means that the increases get smaller over time, but are\n",
    "unbounded; all actions will eventually be selected, but actions with lower value estimates,\n",
    "or that have already been selected frequently, will be selected with decreasing frequency\n",
    "over time."
   ]
  },
  {
   "cell_type": "markdown",
   "id": "6bae5d3e-8f4c-4ef7-b870-67e0a3c485f2",
   "metadata": {},
   "source": [
    "### Importing required libraries"
   ]
  },
  {
   "cell_type": "code",
   "execution_count": 1,
   "id": "35e70dc1-04df-4371-9ba9-8f4f525821e9",
   "metadata": {},
   "outputs": [],
   "source": [
    "import numpy as np\n",
    "import matplotlib.pyplot as plt"
   ]
  },
  {
   "cell_type": "markdown",
   "id": "e489fb20-8e20-4edd-b607-1215e722f3a6",
   "metadata": {},
   "source": [
    "### Parameter declration"
   ]
  },
  {
   "cell_type": "code",
   "execution_count": 2,
   "id": "d9d9dac3-6fba-427b-94ff-789057b63948",
   "metadata": {},
   "outputs": [],
   "source": [
    "# Parameters\n",
    "k = 10  # Number of arms\n",
    "steps = 10000 # Number of steps\n",
    "c = 2  # Exploration parameter"
   ]
  },
  {
   "cell_type": "markdown",
   "id": "1e598ed8-0ef1-4af1-b7f6-bb21a7e8321f",
   "metadata": {},
   "source": [
    "### UCB MAB Model"
   ]
  },
  {
   "cell_type": "code",
   "execution_count": 3,
   "id": "39320116-2705-4414-bc36-37e1481fc899",
   "metadata": {},
   "outputs": [],
   "source": [
    "class MultiArmedBanditUCB:\n",
    "    def __init__(self, k, steps, c):\n",
    "        self.k = k  # Number of arms\n",
    "        self.steps = steps  # Number of steps\n",
    "        self.c = c  # Exploration parameter\n",
    "        self.q_true = np.random.randn(k)  # True reward distribution for each arm\n",
    "        self.q_estimates = np.zeros(k)  # Estimated reward for each arm\n",
    "        self.action_counts = np.zeros(k)  # Number of times each arm is pulled\n",
    "        self.total_reward = 0  # Total reward accumulated\n",
    "        self.average_rewards = np.zeros(steps)  # Average reward at each step\n",
    "\n",
    "    def select_action(self, step):\n",
    "        if step < self.k:\n",
    "            return step  # Ensure each arm is pulled at least once\n",
    "        ucb_values = self.q_estimates + self.c * np.sqrt(np.log(step + 1) / (self.action_counts + 1e-5))\n",
    "        return np.argmax(ucb_values)\n",
    "\n",
    "    def update_estimates(self, action, reward):\n",
    "        self.action_counts[action] += 1\n",
    "        self.q_estimates[action] += (reward - self.q_estimates[action]) / self.action_counts[action]\n",
    "\n",
    "    def step(self, step_num):\n",
    "        action = self.select_action(step_num)\n",
    "        reward = np.random.randn() + self.q_true[action]\n",
    "        self.update_estimates(action, reward)\n",
    "        self.total_reward += reward\n",
    "        self.average_rewards[step_num] = self.total_reward / (step_num + 1)\n",
    "\n",
    "    def run(self):\n",
    "        for step in range(self.steps):\n",
    "            self.step(step)\n",
    "        return self.average_rewards\n",
    "\n",
    "    def plot_results(self):\n",
    "        plt.plot(self.average_rewards)\n",
    "        plt.xlabel('Steps')\n",
    "        plt.ylabel('Average Reward')\n",
    "        plt.title(f'UCB Strategy: c={self.c}')\n",
    "        plt.show()"
   ]
  },
  {
   "cell_type": "markdown",
   "id": "52e331c3-3f62-4f77-be9a-0ef9545a75f2",
   "metadata": {},
   "source": [
    "### Plotting the result"
   ]
  },
  {
   "cell_type": "code",
   "execution_count": 4,
   "id": "8dcef82b-1df1-4459-90b2-4ba5ac10a0b4",
   "metadata": {},
   "outputs": [
    {
     "data": {
      "image/png": "[encoded data removed]",
      "text/plain": [
       "<Figure size 640x480 with 1 Axes>"
      ]
     },
     "metadata": {},
     "output_type": "display_data"
    }
   ],
   "source": [
    "# Run the MAB simulation with UCB\n",
    "mab_ucb = MultiArmedBanditUCB(k, steps, c)\n",
    "mab_ucb.run()\n",
    "mab_ucb.plot_results()\n"
   ]
  },
  {
   "cell_type": "code",
   "execution_count": null,
   "id": "821a9f48-d795-4584-a92c-46bfa531d407",
   "metadata": {},
   "outputs": [],
   "source": []
  }
 ],
 "metadata": {
  "kernelspec": {
   "display_name": "Python 3 (ipykernel)",
   "language": "python",
   "name": "python3"
  },
  "language_info": {
   "codemirror_mode": {
    "name": "ipython",
    "version": 3
   },
   "file_extension": ".py",
   "mimetype": "text/x-python",
   "name": "python",
   "nbconvert_exporter": "python",
   "pygments_lexer": "ipython3",
   "version": "3.11.4"
  }
 },
 "nbformat": 4,
 "nbformat_minor": 5
}
