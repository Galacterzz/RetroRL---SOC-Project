{
 "cells": [
  {
   "cell_type": "markdown",
   "id": "f368b3ca-31ea-45dd-913c-2e0d1a44e29b",
   "metadata": {},
   "source": [
    "# Implementation of Cartpole environment in Gym "
   ]
  },
  {
   "cell_type": "code",
   "execution_count": 1,
   "id": "b07fba6c-0c32-4ae3-8abb-a075a3246b31",
   "metadata": {},
   "outputs": [],
   "source": [
    "import gym"
   ]
  },
  {
   "cell_type": "code",
   "execution_count": 2,
   "id": "c1cb4cf4-9f71-4688-8fc9-b476d3dd53f4",
   "metadata": {},
   "outputs": [],
   "source": [
    "env = gym.make('CartPole-v1')"
   ]
  },
  {
   "cell_type": "code",
   "execution_count": 3,
   "id": "edef1857-c8bb-4601-98d0-6a3df3b45428",
   "metadata": {},
   "outputs": [],
   "source": [
    "observation = env.reset()"
   ]
  },
  {
   "cell_type": "code",
   "execution_count": 4,
   "id": "bab7d2f1-d722-4056-ac3f-e805cc0c80c0",
   "metadata": {},
   "outputs": [
    {
     "name": "stdout",
     "output_type": "stream",
     "text": [
      "Step: 1, Action: 0, Reward: 1.0, Done: False\n",
      "Step: 2, Action: 0, Reward: 1.0, Done: False\n",
      "Step: 3, Action: 0, Reward: 1.0, Done: False\n",
      "Step: 4, Action: 1, Reward: 1.0, Done: False\n",
      "Step: 5, Action: 0, Reward: 1.0, Done: False\n",
      "Step: 6, Action: 0, Reward: 1.0, Done: False\n",
      "Step: 7, Action: 0, Reward: 1.0, Done: False\n",
      "Step: 8, Action: 1, Reward: 1.0, Done: False\n",
      "Step: 9, Action: 0, Reward: 1.0, Done: False\n",
      "Step: 10, Action: 1, Reward: 1.0, Done: False\n"
     ]
    },
    {
     "name": "stderr",
     "output_type": "stream",
     "text": [
      "C:\\python311\\Lib\\site-packages\\gym\\envs\\classic_control\\cartpole.py:211: UserWarning: \u001b[33mWARN: You are calling render method without specifying any render mode. You can specify the render_mode at initialization, e.g. gym(\"CartPole-v1\", render_mode=\"rgb_array\")\u001b[0m\n",
      "  gym.logger.warn(\n",
      "C:\\python311\\Lib\\site-packages\\gym\\utils\\passive_env_checker.py:233: DeprecationWarning: `np.bool8` is a deprecated alias for `np.bool_`.  (Deprecated NumPy 1.24)\n",
      "  if not isinstance(terminated, (bool, np.bool8)):\n"
     ]
    }
   ],
   "source": [
    "steps = 10\n",
    "\n",
    "for i in range(steps):\n",
    "    env.render()\n",
    "    action = env.action_space.sample() # random action\n",
    "    observation, reward, terminated, truncated, info = env.step(action)\n",
    "    print(f\"Step: {i + 1}, Action: {action}, Reward: {reward}, Done: {terminated}\")\n",
    "    if terminated:\n",
    "        print(\"Episode ended early due to pole falling.\")\n",
    "        break\n",
    "\n",
    "env.close()"
   ]
  },
  {
   "cell_type": "code",
   "execution_count": null,
   "id": "b968ac6a-c04f-4706-9df5-c694bb69f25c",
   "metadata": {},
   "outputs": [],
   "source": []
  }
 ],
 "metadata": {
  "kernelspec": {
   "display_name": "Python 3 (ipykernel)",
   "language": "python",
   "name": "python3"
  },
  "language_info": {
   "codemirror_mode": {
    "name": "ipython",
    "version": 3
   },
   "file_extension": ".py",
   "mimetype": "text/x-python",
   "name": "python",
   "nbconvert_exporter": "python",
   "pygments_lexer": "ipython3",
   "version": "3.11.4"
  }
 },
 "nbformat": 4,
 "nbformat_minor": 5
}
